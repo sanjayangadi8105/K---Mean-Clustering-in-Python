{
 "cells": [
  {
   "cell_type": "code",
   "execution_count": 3,
   "id": "33fb25ea",
   "metadata": {},
   "outputs": [],
   "source": [
    "import pandas as pd\n",
    "import numpy as np\n",
    "from matplotlib import pyplot as plt"
   ]
  },
  {
   "cell_type": "code",
   "execution_count": 4,
   "id": "191f3c3c",
   "metadata": {},
   "outputs": [],
   "source": [
    "df = pd.read_csv(\"Income.csv\")"
   ]
  },
  {
   "cell_type": "code",
   "execution_count": 5,
   "id": "1f9df539",
   "metadata": {},
   "outputs": [
    {
     "data": {
      "text/html": [
       "<div>\n",
       "<style scoped>\n",
       "    .dataframe tbody tr th:only-of-type {\n",
       "        vertical-align: middle;\n",
       "    }\n",
       "\n",
       "    .dataframe tbody tr th {\n",
       "        vertical-align: top;\n",
       "    }\n",
       "\n",
       "    .dataframe thead th {\n",
       "        text-align: right;\n",
       "    }\n",
       "</style>\n",
       "<table border=\"1\" class=\"dataframe\">\n",
       "  <thead>\n",
       "    <tr style=\"text-align: right;\">\n",
       "      <th></th>\n",
       "      <th>Name</th>\n",
       "      <th>age</th>\n",
       "      <th>Income</th>\n",
       "    </tr>\n",
       "  </thead>\n",
       "  <tbody>\n",
       "    <tr>\n",
       "      <th>0</th>\n",
       "      <td>sdgd</td>\n",
       "      <td>27</td>\n",
       "      <td>15000</td>\n",
       "    </tr>\n",
       "    <tr>\n",
       "      <th>1</th>\n",
       "      <td>shyghsd</td>\n",
       "      <td>29</td>\n",
       "      <td>156555</td>\n",
       "    </tr>\n",
       "    <tr>\n",
       "      <th>2</th>\n",
       "      <td>ghdsgh</td>\n",
       "      <td>26</td>\n",
       "      <td>232554</td>\n",
       "    </tr>\n",
       "    <tr>\n",
       "      <th>3</th>\n",
       "      <td>ghjr</td>\n",
       "      <td>29</td>\n",
       "      <td>56477</td>\n",
       "    </tr>\n",
       "    <tr>\n",
       "      <th>4</th>\n",
       "      <td>ffdgj</td>\n",
       "      <td>25</td>\n",
       "      <td>56767</td>\n",
       "    </tr>\n",
       "  </tbody>\n",
       "</table>\n",
       "</div>"
      ],
      "text/plain": [
       "      Name  age  Income\n",
       "0     sdgd   27   15000\n",
       "1  shyghsd   29  156555\n",
       "2   ghdsgh   26  232554\n",
       "3     ghjr   29   56477\n",
       "4    ffdgj   25   56767"
      ]
     },
     "execution_count": 5,
     "metadata": {},
     "output_type": "execute_result"
    }
   ],
   "source": [
    "df.head()"
   ]
  },
  {
   "cell_type": "code",
   "execution_count": 6,
   "id": "afc1f5e9",
   "metadata": {},
   "outputs": [
    {
     "data": {
      "text/plain": [
       "<matplotlib.collections.PathCollection at 0x1ab8bc159d0>"
      ]
     },
     "execution_count": 6,
     "metadata": {},
     "output_type": "execute_result"
    },
    {
     "data": {
      "image/png": "[encoded data removed]",
      "text/plain": [
       "<Figure size 432x288 with 1 Axes>"
      ]
     },
     "metadata": {
      "needs_background": "light"
     },
     "output_type": "display_data"
    }
   ],
   "source": [
    "plt.scatter(df.age, df['Income'])"
   ]
  },
  {
   "cell_type": "code",
   "execution_count": 7,
   "id": "eba442eb",
   "metadata": {},
   "outputs": [],
   "source": [
    "from sklearn.cluster import KMeans"
   ]
  },
  {
   "cell_type": "code",
   "execution_count": 8,
   "id": "07239b47",
   "metadata": {},
   "outputs": [],
   "source": [
    "KM = KMeans(n_clusters=3)"
   ]
  },
  {
   "cell_type": "code",
   "execution_count": 9,
   "id": "a135a852",
   "metadata": {},
   "outputs": [],
   "source": [
    "y_precdicted = KM.fit_predict(df[['age', 'Income']])"
   ]
  },
  {
   "cell_type": "code",
   "execution_count": 10,
   "id": "62665e52",
   "metadata": {},
   "outputs": [
    {
     "data": {
      "text/plain": [
       "array([0, 0, 2, 0, 0, 0, 0, 1, 2, 0, 0, 2, 1, 0, 0, 0, 0, 0, 0])"
      ]
     },
     "execution_count": 10,
     "metadata": {},
     "output_type": "execute_result"
    }
   ],
   "source": [
    "y_precdicted"
   ]
  },
  {
   "cell_type": "code",
   "execution_count": 11,
   "id": "26e60f59",
   "metadata": {},
   "outputs": [],
   "source": [
    "df['clusters'] = y_precdicted"
   ]
  },
  {
   "cell_type": "code",
   "execution_count": 12,
   "id": "8b10a29a",
   "metadata": {},
   "outputs": [
    {
     "data": {
      "text/html": [
       "<div>\n",
       "<style scoped>\n",
       "    .dataframe tbody tr th:only-of-type {\n",
       "        vertical-align: middle;\n",
       "    }\n",
       "\n",
       "    .dataframe tbody tr th {\n",
       "        vertical-align: top;\n",
       "    }\n",
       "\n",
       "    .dataframe thead th {\n",
       "        text-align: right;\n",
       "    }\n",
       "</style>\n",
       "<table border=\"1\" class=\"dataframe\">\n",
       "  <thead>\n",
       "    <tr style=\"text-align: right;\">\n",
       "      <th></th>\n",
       "      <th>Name</th>\n",
       "      <th>age</th>\n",
       "      <th>Income</th>\n",
       "      <th>clusters</th>\n",
       "    </tr>\n",
       "  </thead>\n",
       "  <tbody>\n",
       "    <tr>\n",
       "      <th>0</th>\n",
       "      <td>sdgd</td>\n",
       "      <td>27</td>\n",
       "      <td>15000</td>\n",
       "      <td>0</td>\n",
       "    </tr>\n",
       "    <tr>\n",
       "      <th>1</th>\n",
       "      <td>shyghsd</td>\n",
       "      <td>29</td>\n",
       "      <td>156555</td>\n",
       "      <td>0</td>\n",
       "    </tr>\n",
       "    <tr>\n",
       "      <th>2</th>\n",
       "      <td>ghdsgh</td>\n",
       "      <td>26</td>\n",
       "      <td>232554</td>\n",
       "      <td>2</td>\n",
       "    </tr>\n",
       "    <tr>\n",
       "      <th>3</th>\n",
       "      <td>ghjr</td>\n",
       "      <td>29</td>\n",
       "      <td>56477</td>\n",
       "      <td>0</td>\n",
       "    </tr>\n",
       "    <tr>\n",
       "      <th>4</th>\n",
       "      <td>ffdgj</td>\n",
       "      <td>25</td>\n",
       "      <td>56767</td>\n",
       "      <td>0</td>\n",
       "    </tr>\n",
       "  </tbody>\n",
       "</table>\n",
       "</div>"
      ],
      "text/plain": [
       "      Name  age  Income  clusters\n",
       "0     sdgd   27   15000         0\n",
       "1  shyghsd   29  156555         0\n",
       "2   ghdsgh   26  232554         2\n",
       "3     ghjr   29   56477         0\n",
       "4    ffdgj   25   56767         0"
      ]
     },
     "execution_count": 12,
     "metadata": {},
     "output_type": "execute_result"
    }
   ],
   "source": [
    "df.head()"
   ]
  },
  {
   "cell_type": "code",
   "execution_count": 13,
   "id": "49c784ad",
   "metadata": {},
   "outputs": [
    {
     "data": {
      "text/plain": [
       "array([[3.93571429e+01, 3.28208571e+04],\n",
       "       [4.10000000e+01, 7.77676500e+05],\n",
       "       [4.70000000e+01, 3.44955000e+05]])"
      ]
     },
     "execution_count": 13,
     "metadata": {},
     "output_type": "execute_result"
    }
   ],
   "source": [
    "KM.cluster_centers_"
   ]
  },
  {
   "cell_type": "code",
   "execution_count": 14,
   "id": "aa9ca77c",
   "metadata": {},
   "outputs": [
    {
     "data": {
      "text/plain": [
       "array([ 32820.85714286, 777676.5       , 344955.        ])"
      ]
     },
     "execution_count": 14,
     "metadata": {},
     "output_type": "execute_result"
    }
   ],
   "source": [
    "KM.cluster_centers_[:,1]"
   ]
  },
  {
   "cell_type": "code",
   "execution_count": 15,
   "id": "286528ff",
   "metadata": {
    "scrolled": true
   },
   "outputs": [
    {
     "data": {
      "text/plain": [
       "Text(0, 0.5, 'Income')"
      ]
     },
     "execution_count": 15,
     "metadata": {},
     "output_type": "execute_result"
    },
    {
     "data": {
      "image/png": "[encoded data removed]",
      "text/plain": [
       "<Figure size 432x288 with 1 Axes>"
      ]
     },
     "metadata": {
      "needs_background": "light"
     },
     "output_type": "display_data"
    }
   ],
   "source": [
    "df1 = df[df['clusters'] == 0]\n",
    "df2 = df[df['clusters'] == 1]\n",
    "df3 = df[df['clusters'] == 2]\n",
    "\n",
    "plt.scatter(df1.age, df1['Income'], color='green')\n",
    "plt.scatter(df2.age, df2['Income'], color='blue')\n",
    "plt.scatter(df3.age, df3['Income'], color='black')\n",
    "\n",
    "plt.scatter(KM.cluster_centers_[:,0], KM.cluster_centers_[:,1], marker='*', color='purple')\n",
    "\n",
    "plt.xlabel('Age')\n",
    "plt.ylabel('Income')"
   ]
  },
  {
   "cell_type": "code",
   "execution_count": 16,
   "id": "c409c976",
   "metadata": {},
   "outputs": [],
   "source": [
    "from sklearn.preprocessing import MinMaxScaler"
   ]
  },
  {
   "cell_type": "code",
   "execution_count": 2,
   "id": "d725437d",
   "metadata": {},
   "outputs": [],
   "source": [
    "scaler = MinMaxScaler()"
   ]
  },
  {
   "cell_type": "code",
   "execution_count": 23,
   "id": "d938dd63",
   "metadata": {},
   "outputs": [],
   "source": [
    "scaler.fit(df[['Income']])\n",
    "df['Income'] = scaler.transform(df[['Income']])"
   ]
  },
  {
   "cell_type": "code",
   "execution_count": 24,
   "id": "5ad80b0a",
   "metadata": {},
   "outputs": [
    {
     "data": {
      "text/html": [
       "<div>\n",
       "<style scoped>\n",
       "    .dataframe tbody tr th:only-of-type {\n",
       "        vertical-align: middle;\n",
       "    }\n",
       "\n",
       "    .dataframe tbody tr th {\n",
       "        vertical-align: top;\n",
       "    }\n",
       "\n",
       "    .dataframe thead th {\n",
       "        text-align: right;\n",
       "    }\n",
       "</style>\n",
       "<table border=\"1\" class=\"dataframe\">\n",
       "  <thead>\n",
       "    <tr style=\"text-align: right;\">\n",
       "      <th></th>\n",
       "      <th>Name</th>\n",
       "      <th>age</th>\n",
       "      <th>Income</th>\n",
       "      <th>clusters</th>\n",
       "    </tr>\n",
       "  </thead>\n",
       "  <tbody>\n",
       "    <tr>\n",
       "      <th>0</th>\n",
       "      <td>sdgd</td>\n",
       "      <td>27</td>\n",
       "      <td>0.018267</td>\n",
       "      <td>0</td>\n",
       "    </tr>\n",
       "    <tr>\n",
       "      <th>1</th>\n",
       "      <td>shyghsd</td>\n",
       "      <td>29</td>\n",
       "      <td>0.197682</td>\n",
       "      <td>0</td>\n",
       "    </tr>\n",
       "    <tr>\n",
       "      <th>2</th>\n",
       "      <td>ghdsgh</td>\n",
       "      <td>26</td>\n",
       "      <td>0.294008</td>\n",
       "      <td>2</td>\n",
       "    </tr>\n",
       "    <tr>\n",
       "      <th>3</th>\n",
       "      <td>ghjr</td>\n",
       "      <td>29</td>\n",
       "      <td>0.070837</td>\n",
       "      <td>0</td>\n",
       "    </tr>\n",
       "    <tr>\n",
       "      <th>4</th>\n",
       "      <td>ffdgj</td>\n",
       "      <td>25</td>\n",
       "      <td>0.071205</td>\n",
       "      <td>0</td>\n",
       "    </tr>\n",
       "  </tbody>\n",
       "</table>\n",
       "</div>"
      ],
      "text/plain": [
       "      Name  age    Income  clusters\n",
       "0     sdgd   27  0.018267         0\n",
       "1  shyghsd   29  0.197682         0\n",
       "2   ghdsgh   26  0.294008         2\n",
       "3     ghjr   29  0.070837         0\n",
       "4    ffdgj   25  0.071205         0"
      ]
     },
     "execution_count": 24,
     "metadata": {},
     "output_type": "execute_result"
    }
   ],
   "source": [
    "df.head()"
   ]
  },
  {
   "cell_type": "code",
   "execution_count": 25,
   "id": "23e8891d",
   "metadata": {},
   "outputs": [],
   "source": [
    "scaler.fit(df[['age']])\n",
    "df['age'] = scaler.transform(df[['age']])"
   ]
  },
  {
   "cell_type": "code",
   "execution_count": 27,
   "id": "861c42c6",
   "metadata": {},
   "outputs": [
    {
     "data": {
      "text/html": [
       "<div>\n",
       "<style scoped>\n",
       "    .dataframe tbody tr th:only-of-type {\n",
       "        vertical-align: middle;\n",
       "    }\n",
       "\n",
       "    .dataframe tbody tr th {\n",
       "        vertical-align: top;\n",
       "    }\n",
       "\n",
       "    .dataframe thead th {\n",
       "        text-align: right;\n",
       "    }\n",
       "</style>\n",
       "<table border=\"1\" class=\"dataframe\">\n",
       "  <thead>\n",
       "    <tr style=\"text-align: right;\">\n",
       "      <th></th>\n",
       "      <th>Name</th>\n",
       "      <th>age</th>\n",
       "      <th>Income</th>\n",
       "      <th>clusters</th>\n",
       "    </tr>\n",
       "  </thead>\n",
       "  <tbody>\n",
       "    <tr>\n",
       "      <th>0</th>\n",
       "      <td>sdgd</td>\n",
       "      <td>0.057692</td>\n",
       "      <td>0.018267</td>\n",
       "      <td>0</td>\n",
       "    </tr>\n",
       "    <tr>\n",
       "      <th>1</th>\n",
       "      <td>shyghsd</td>\n",
       "      <td>0.096154</td>\n",
       "      <td>0.197682</td>\n",
       "      <td>0</td>\n",
       "    </tr>\n",
       "    <tr>\n",
       "      <th>2</th>\n",
       "      <td>ghdsgh</td>\n",
       "      <td>0.038462</td>\n",
       "      <td>0.294008</td>\n",
       "      <td>2</td>\n",
       "    </tr>\n",
       "    <tr>\n",
       "      <th>3</th>\n",
       "      <td>ghjr</td>\n",
       "      <td>0.096154</td>\n",
       "      <td>0.070837</td>\n",
       "      <td>0</td>\n",
       "    </tr>\n",
       "    <tr>\n",
       "      <th>4</th>\n",
       "      <td>ffdgj</td>\n",
       "      <td>0.019231</td>\n",
       "      <td>0.071205</td>\n",
       "      <td>0</td>\n",
       "    </tr>\n",
       "  </tbody>\n",
       "</table>\n",
       "</div>"
      ],
      "text/plain": [
       "      Name       age    Income  clusters\n",
       "0     sdgd  0.057692  0.018267         0\n",
       "1  shyghsd  0.096154  0.197682         0\n",
       "2   ghdsgh  0.038462  0.294008         2\n",
       "3     ghjr  0.096154  0.070837         0\n",
       "4    ffdgj  0.019231  0.071205         0"
      ]
     },
     "execution_count": 27,
     "metadata": {},
     "output_type": "execute_result"
    }
   ],
   "source": [
    "df.head()"
   ]
  },
  {
   "cell_type": "code",
   "execution_count": 28,
   "id": "57717707",
   "metadata": {},
   "outputs": [],
   "source": [
    "KM = KMeans(n_clusters=3)"
   ]
  },
  {
   "cell_type": "code",
   "execution_count": 29,
   "id": "fab3d0a2",
   "metadata": {},
   "outputs": [],
   "source": [
    "y_precdicted = KM.fit_predict(df[['age', 'Income']])"
   ]
  },
  {
   "cell_type": "code",
   "execution_count": 31,
   "id": "8a48460c",
   "metadata": {},
   "outputs": [],
   "source": [
    "df['clusters'] = y_precdicted"
   ]
  },
  {
   "cell_type": "code",
   "execution_count": 32,
   "id": "10badfa1",
   "metadata": {},
   "outputs": [
    {
     "data": {
      "text/plain": [
       "Text(0, 0.5, 'Income')"
      ]
     },
     "execution_count": 32,
     "metadata": {},
     "output_type": "execute_result"
    },
    {
     "data": {
      "image/png": "[encoded data removed]",
      "text/plain": [
       "<Figure size 432x288 with 1 Axes>"
      ]
     },
     "metadata": {
      "needs_background": "light"
     },
     "output_type": "display_data"
    }
   ],
   "source": [
    "df1 = df[df['clusters'] == 0]\n",
    "df2 = df[df['clusters'] == 1]\n",
    "df3 = df[df['clusters'] == 2]\n",
    "\n",
    "plt.scatter(df1.age, df1['Income'], color='green')\n",
    "plt.scatter(df2.age, df2['Income'], color='blue')\n",
    "plt.scatter(df3.age, df3['Income'], color='black')\n",
    "\n",
    "plt.scatter(KM.cluster_centers_[:,0], KM.cluster_centers_[:,1], marker='*', color='purple')\n",
    "\n",
    "plt.xlabel('Age')\n",
    "plt.ylabel('Income')"
   ]
  },
  {
   "cell_type": "code",
   "execution_count": 37,
   "id": "36b48946",
   "metadata": {},
   "outputs": [
    {
     "name": "stderr",
     "output_type": "stream",
     "text": [
      "C:\\Users\\manju\\anaconda3\\lib\\site-packages\\sklearn\\cluster\\_kmeans.py:1036: UserWarning: KMeans is known to have a memory leak on Windows with MKL, when there are less chunks than available threads. You can avoid it by setting the environment variable OMP_NUM_THREADS=1.\n",
      "  warnings.warn(\n"
     ]
    }
   ],
   "source": [
    "sse = []\n",
    "for k in range(1,10):\n",
    "    KM = KMeans(n_clusters=k)\n",
    "    y_precdicted = KM.fit_predict(df[['age', 'Income']])\n",
    "    sse.append(KM.inertia_)"
   ]
  },
  {
   "cell_type": "code",
   "execution_count": 38,
   "id": "dbbd71af",
   "metadata": {},
   "outputs": [
    {
     "data": {
      "text/plain": [
       "Text(0, 0.5, 'sum of squared error')"
      ]
     },
     "execution_count": 38,
     "metadata": {},
     "output_type": "execute_result"
    },
    {
     "data": {
      "image/png": "[encoded data removed]",
      "text/plain": [
       "<Figure size 432x288 with 1 Axes>"
      ]
     },
     "metadata": {
      "needs_background": "light"
     },
     "output_type": "display_data"
    }
   ],
   "source": [
    "plt.plot(range(1,10),sse)\n",
    "plt.xlabel('number of cluster')\n",
    "plt.ylabel('sum of squared error')"
   ]
  },
  {
   "cell_type": "code",
   "execution_count": null,
   "id": "c6390faa",
   "metadata": {},
   "outputs": [],
   "source": []
  }
 ],
 "metadata": {
  "kernelspec": {
   "display_name": "Python 3 (ipykernel)",
   "language": "python",
   "name": "python3"
  },
  "language_info": {
   "codemirror_mode": {
    "name": "ipython",
    "version": 3
   },
   "file_extension": ".py",
   "mimetype": "text/x-python",
   "name": "python",
   "nbconvert_exporter": "python",
   "pygments_lexer": "ipython3",
   "version": "3.9.12"
  }
 },
 "nbformat": 4,
 "nbformat_minor": 5
}
